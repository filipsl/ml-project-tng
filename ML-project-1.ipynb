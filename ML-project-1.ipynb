{
 "cells": [
  {
   "cell_type": "markdown",
   "metadata": {},
   "source": [
    "# Metody Rozpoznawania Obrazów i Podstawy Uczenia Maszynowego\n",
    "\n",
    "# Nr tematu projektu: 1\n",
    "\n",
    "\n",
    "\n",
    "### Autorzy: Arkadiusz Kraus, Filip Ślazyk\n",
    "### Grupa laboratoryjna: poniedziałek 14:40 A"
   ]
  },
  {
   "cell_type": "markdown",
   "metadata": {},
   "source": [
    "### 1. Zbiór danych: TNG, ok 18000 próbek, 20 klas. Wykorzystujemy gotowe dane reprezentujące tekst blogów w postaci wektorów (dostarcza prowadzący)\n"
   ]
  },
  {
   "cell_type": "code",
   "execution_count": null,
   "metadata": {},
   "outputs": [],
   "source": []
  },
  {
   "cell_type": "markdown",
   "metadata": {},
   "source": [
    "### 2. Celem projektu jest porównanie dwóch klasyfikatorów: klasyfikatora AdaBoost użytego dla pełnych danych oraz sieci neuronowej MLP.  \n",
    "\n",
    "(mamy użyć \"kilku\" warstw MLP, np. 5)"
   ]
  },
  {
   "cell_type": "code",
   "execution_count": null,
   "metadata": {},
   "outputs": [],
   "source": []
  },
  {
   "cell_type": "markdown",
   "metadata": {},
   "source": [
    "### 3. Ocenić moc obu (robustness) klasyfikatorów na ich jakość w zależności od stopnia zaszumienia wejściowych danych.\n",
    "\n",
    "\n",
    "“moc na ich jakość” - jak należy to rozumieć? Jak mamy “zaszumić” dane (jakiej miary użyć)?\n",
    "mamy pozamieniać 10, 20 , 30% etykiet\n",
    "robustness to własnie odporność na te zmiany, accuracy jako miara ma byc\n"
   ]
  },
  {
   "cell_type": "code",
   "execution_count": null,
   "metadata": {},
   "outputs": [],
   "source": []
  },
  {
   "cell_type": "markdown",
   "metadata": {},
   "source": [
    "### 4. Jak zmieni się jakość klasyfikatorów po użyciu transformacji PCA.\n",
    "\n",
    "Czy PCA ma być ND->ND czy ND -> N’D (N’<<N)?\n",
    "zrobić n-n, a potem n na mniej nie może być zbyt mała 30 okej\n"
   ]
  },
  {
   "cell_type": "code",
   "execution_count": null,
   "metadata": {},
   "outputs": [],
   "source": []
  },
  {
   "cell_type": "markdown",
   "metadata": {},
   "source": [
    "### 5. Wyniki jakości klasyfikatorów oceniać na bazie krzyżowej-walidacji, (accuracy - Loss- błąd, Krzywa ROC, Precision-Recall, (pola pod krzywymi) F1).\n",
    "\n",
    "Loss tylko w odniesieniu do MLP, a error do AdaBoost? Log Loss?\n",
    "Jak zrobić ROC  (weighted?), Precision-Recall dla wielu klas? micro-averaged?\n",
    "Upewnić się - F1 jako score, a nie krzywa?\n",
    "\n",
    "Dla wielu klas możemy też narysować, on chce “uzupełnić lukę w wiedzy” czy jakoś tak\n"
   ]
  },
  {
   "cell_type": "code",
   "execution_count": null,
   "metadata": {},
   "outputs": [],
   "source": []
  },
  {
   "cell_type": "markdown",
   "metadata": {},
   "source": [
    "### 6. Dokonać porównania wyników tzn: accuracy i loss. Jakość klasyfikatorów porównywać dla 3 budżetów czasowych T1, T2, T3 (krótki, średni i długi).\n"
   ]
  },
  {
   "cell_type": "code",
   "execution_count": null,
   "metadata": {},
   "outputs": [],
   "source": []
  },
  {
   "cell_type": "markdown",
   "metadata": {},
   "source": [
    "### 7. Należy dokonać badań:\n",
    "### a. 5,6. (3.5)\n",
    "### b. 3,4 (4.0)\n",
    "### c. Znaleźć zestaw cech, który jest głównie odpowiedzialny za przynależność do odpowiednich klas. (5.0)\n",
    "\n",
    "Użyć RFE? Albo RandomForest do określenia ranków cech?  Tak, możemy RandomForest\n"
   ]
  },
  {
   "cell_type": "code",
   "execution_count": null,
   "metadata": {},
   "outputs": [],
   "source": []
  },
  {
   "cell_type": "markdown",
   "metadata": {},
   "source": [
    "### 8. Należy sporządzić raport z projektu.\n",
    "\n",
    "Raport może mieć więcej niż 2 strony.\n",
    "Zalecenia do oceny jakości klasyfikacji: najpierw dobrze wykonać walidację krzyżową ma zbiorze treningowym, a dopiero potem holdout.\n",
    "\n",
    "\n"
   ]
  },
  {
   "cell_type": "code",
   "execution_count": null,
   "metadata": {},
   "outputs": [],
   "source": []
  }
 ],
 "metadata": {
  "kernelspec": {
   "display_name": "Python 3",
   "language": "python",
   "name": "python3"
  },
  "language_info": {
   "codemirror_mode": {
    "name": "ipython",
    "version": 3
   },
   "file_extension": ".py",
   "mimetype": "text/x-python",
   "name": "python",
   "nbconvert_exporter": "python",
   "pygments_lexer": "ipython3",
   "version": "3.7.7"
  }
 },
 "nbformat": 4,
 "nbformat_minor": 2
}
