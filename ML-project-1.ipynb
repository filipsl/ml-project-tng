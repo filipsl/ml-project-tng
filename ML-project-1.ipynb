{
 "cells": [
  {
   "cell_type": "markdown",
   "metadata": {},
   "source": [
    "# Metody Rozpoznawania Obrazów i Podstawy Uczenia Maszynowego\n",
    "\n",
    "# Nr tematu projektu: 1\n",
    "\n",
    "\n",
    "\n",
    "### Autorzy: Arkadiusz Kraus, Filip Ślazyk\n",
    "### Grupa laboratoryjna: poniedziałek 14:40 A"
   ]
  },
  {
   "cell_type": "markdown",
   "metadata": {},
   "source": [
    "### 1. Zbiór danych: TNG, ok 18000 próbek, 20 klas. Wykorzystujemy gotowe dane reprezentujące tekst blogów w postaci wektorów (dostarcza prowadzący)\n"
   ]
  },
  {
   "cell_type": "code",
   "execution_count": 1,
   "metadata": {},
   "outputs": [],
   "source": [
    "import numpy as np\n",
    "import pandas as pd"
   ]
  },
  {
   "cell_type": "code",
   "execution_count": 2,
   "metadata": {},
   "outputs": [],
   "source": [
    "TNG_prefix = './TNG'\n",
    "\n",
    "#ng20 has about 5k rows\n",
    "#ng20_all has about 19k rows\n",
    "TNG_name = 'ng20_all.csv'\n",
    "TNG_path = '{}/{}'.format(TNG_prefix, TNG_name)"
   ]
  },
  {
   "cell_type": "code",
   "execution_count": 3,
   "metadata": {},
   "outputs": [
    {
     "data": {
      "text/html": [
       "<div>\n",
       "<style scoped>\n",
       "    .dataframe tbody tr th:only-of-type {\n",
       "        vertical-align: middle;\n",
       "    }\n",
       "\n",
       "    .dataframe tbody tr th {\n",
       "        vertical-align: top;\n",
       "    }\n",
       "\n",
       "    .dataframe thead th {\n",
       "        text-align: right;\n",
       "    }\n",
       "</style>\n",
       "<table border=\"1\" class=\"dataframe\">\n",
       "  <thead>\n",
       "    <tr style=\"text-align: right;\">\n",
       "      <th></th>\n",
       "      <th>0</th>\n",
       "      <th>1</th>\n",
       "      <th>2</th>\n",
       "      <th>3</th>\n",
       "      <th>4</th>\n",
       "      <th>5</th>\n",
       "      <th>6</th>\n",
       "      <th>7</th>\n",
       "      <th>8</th>\n",
       "      <th>9</th>\n",
       "      <th>...</th>\n",
       "      <th>119</th>\n",
       "      <th>120</th>\n",
       "      <th>121</th>\n",
       "      <th>122</th>\n",
       "      <th>123</th>\n",
       "      <th>124</th>\n",
       "      <th>125</th>\n",
       "      <th>126</th>\n",
       "      <th>127</th>\n",
       "      <th>128</th>\n",
       "    </tr>\n",
       "  </thead>\n",
       "  <tbody>\n",
       "    <tr>\n",
       "      <th>0</th>\n",
       "      <td>0.0</td>\n",
       "      <td>15.728111</td>\n",
       "      <td>9.099586</td>\n",
       "      <td>0.259395</td>\n",
       "      <td>5.156905</td>\n",
       "      <td>0.000000</td>\n",
       "      <td>0.0</td>\n",
       "      <td>0.000000</td>\n",
       "      <td>7.731676</td>\n",
       "      <td>0.000000</td>\n",
       "      <td>...</td>\n",
       "      <td>11.612481</td>\n",
       "      <td>0.000000</td>\n",
       "      <td>3.256385</td>\n",
       "      <td>0.0</td>\n",
       "      <td>0.000000</td>\n",
       "      <td>7.129995</td>\n",
       "      <td>0.000000</td>\n",
       "      <td>3.373063</td>\n",
       "      <td>0.0</td>\n",
       "      <td>9</td>\n",
       "    </tr>\n",
       "    <tr>\n",
       "      <th>1</th>\n",
       "      <td>0.0</td>\n",
       "      <td>0.000000</td>\n",
       "      <td>0.000000</td>\n",
       "      <td>0.000000</td>\n",
       "      <td>0.000000</td>\n",
       "      <td>14.229717</td>\n",
       "      <td>0.0</td>\n",
       "      <td>0.000000</td>\n",
       "      <td>0.000000</td>\n",
       "      <td>0.000000</td>\n",
       "      <td>...</td>\n",
       "      <td>0.000000</td>\n",
       "      <td>2.213775</td>\n",
       "      <td>0.000000</td>\n",
       "      <td>0.0</td>\n",
       "      <td>0.000000</td>\n",
       "      <td>0.000000</td>\n",
       "      <td>2.523506</td>\n",
       "      <td>2.307943</td>\n",
       "      <td>0.0</td>\n",
       "      <td>4</td>\n",
       "    </tr>\n",
       "    <tr>\n",
       "      <th>2</th>\n",
       "      <td>0.0</td>\n",
       "      <td>0.000000</td>\n",
       "      <td>0.000000</td>\n",
       "      <td>72.029411</td>\n",
       "      <td>0.000000</td>\n",
       "      <td>0.000000</td>\n",
       "      <td>0.0</td>\n",
       "      <td>0.000000</td>\n",
       "      <td>0.000000</td>\n",
       "      <td>56.773968</td>\n",
       "      <td>...</td>\n",
       "      <td>0.000000</td>\n",
       "      <td>0.000000</td>\n",
       "      <td>0.000000</td>\n",
       "      <td>0.0</td>\n",
       "      <td>0.000000</td>\n",
       "      <td>136.649582</td>\n",
       "      <td>0.000000</td>\n",
       "      <td>0.000000</td>\n",
       "      <td>0.0</td>\n",
       "      <td>11</td>\n",
       "    </tr>\n",
       "    <tr>\n",
       "      <th>3</th>\n",
       "      <td>0.0</td>\n",
       "      <td>0.000000</td>\n",
       "      <td>0.000000</td>\n",
       "      <td>0.000000</td>\n",
       "      <td>0.000000</td>\n",
       "      <td>14.833830</td>\n",
       "      <td>0.0</td>\n",
       "      <td>0.000000</td>\n",
       "      <td>0.000000</td>\n",
       "      <td>0.000000</td>\n",
       "      <td>...</td>\n",
       "      <td>0.000000</td>\n",
       "      <td>0.000000</td>\n",
       "      <td>0.000000</td>\n",
       "      <td>0.0</td>\n",
       "      <td>0.000000</td>\n",
       "      <td>0.000000</td>\n",
       "      <td>1.940317</td>\n",
       "      <td>0.000000</td>\n",
       "      <td>0.0</td>\n",
       "      <td>4</td>\n",
       "    </tr>\n",
       "    <tr>\n",
       "      <th>4</th>\n",
       "      <td>0.0</td>\n",
       "      <td>0.000000</td>\n",
       "      <td>0.000000</td>\n",
       "      <td>0.000000</td>\n",
       "      <td>4.875045</td>\n",
       "      <td>0.000000</td>\n",
       "      <td>0.0</td>\n",
       "      <td>0.000000</td>\n",
       "      <td>0.000000</td>\n",
       "      <td>0.000000</td>\n",
       "      <td>...</td>\n",
       "      <td>0.000000</td>\n",
       "      <td>0.000000</td>\n",
       "      <td>0.000000</td>\n",
       "      <td>0.0</td>\n",
       "      <td>6.780793</td>\n",
       "      <td>0.000000</td>\n",
       "      <td>0.000000</td>\n",
       "      <td>0.000000</td>\n",
       "      <td>0.0</td>\n",
       "      <td>0</td>\n",
       "    </tr>\n",
       "    <tr>\n",
       "      <th>...</th>\n",
       "      <td>...</td>\n",
       "      <td>...</td>\n",
       "      <td>...</td>\n",
       "      <td>...</td>\n",
       "      <td>...</td>\n",
       "      <td>...</td>\n",
       "      <td>...</td>\n",
       "      <td>...</td>\n",
       "      <td>...</td>\n",
       "      <td>...</td>\n",
       "      <td>...</td>\n",
       "      <td>...</td>\n",
       "      <td>...</td>\n",
       "      <td>...</td>\n",
       "      <td>...</td>\n",
       "      <td>...</td>\n",
       "      <td>...</td>\n",
       "      <td>...</td>\n",
       "      <td>...</td>\n",
       "      <td>...</td>\n",
       "      <td>...</td>\n",
       "    </tr>\n",
       "    <tr>\n",
       "      <th>18841</th>\n",
       "      <td>0.0</td>\n",
       "      <td>0.000000</td>\n",
       "      <td>0.248722</td>\n",
       "      <td>0.000000</td>\n",
       "      <td>0.000000</td>\n",
       "      <td>3.898138</td>\n",
       "      <td>0.0</td>\n",
       "      <td>2.554687</td>\n",
       "      <td>0.000000</td>\n",
       "      <td>4.410306</td>\n",
       "      <td>...</td>\n",
       "      <td>0.000000</td>\n",
       "      <td>0.000000</td>\n",
       "      <td>0.000000</td>\n",
       "      <td>0.0</td>\n",
       "      <td>0.000000</td>\n",
       "      <td>0.785907</td>\n",
       "      <td>0.000000</td>\n",
       "      <td>0.000000</td>\n",
       "      <td>0.0</td>\n",
       "      <td>12</td>\n",
       "    </tr>\n",
       "    <tr>\n",
       "      <th>18842</th>\n",
       "      <td>0.0</td>\n",
       "      <td>0.000000</td>\n",
       "      <td>0.000000</td>\n",
       "      <td>0.000000</td>\n",
       "      <td>0.320675</td>\n",
       "      <td>0.000000</td>\n",
       "      <td>0.0</td>\n",
       "      <td>3.230011</td>\n",
       "      <td>0.000000</td>\n",
       "      <td>0.000000</td>\n",
       "      <td>...</td>\n",
       "      <td>0.000000</td>\n",
       "      <td>1.078652</td>\n",
       "      <td>0.000000</td>\n",
       "      <td>0.0</td>\n",
       "      <td>2.671853</td>\n",
       "      <td>0.000000</td>\n",
       "      <td>0.113560</td>\n",
       "      <td>0.000000</td>\n",
       "      <td>0.0</td>\n",
       "      <td>8</td>\n",
       "    </tr>\n",
       "    <tr>\n",
       "      <th>18843</th>\n",
       "      <td>0.0</td>\n",
       "      <td>0.000000</td>\n",
       "      <td>0.000000</td>\n",
       "      <td>0.000000</td>\n",
       "      <td>0.000000</td>\n",
       "      <td>0.860070</td>\n",
       "      <td>0.0</td>\n",
       "      <td>1.224586</td>\n",
       "      <td>0.000000</td>\n",
       "      <td>0.457255</td>\n",
       "      <td>...</td>\n",
       "      <td>0.000000</td>\n",
       "      <td>0.000000</td>\n",
       "      <td>0.000000</td>\n",
       "      <td>0.0</td>\n",
       "      <td>0.303810</td>\n",
       "      <td>0.000000</td>\n",
       "      <td>0.000000</td>\n",
       "      <td>0.000000</td>\n",
       "      <td>0.0</td>\n",
       "      <td>4</td>\n",
       "    </tr>\n",
       "    <tr>\n",
       "      <th>18844</th>\n",
       "      <td>0.0</td>\n",
       "      <td>0.000000</td>\n",
       "      <td>0.000000</td>\n",
       "      <td>0.000000</td>\n",
       "      <td>0.000000</td>\n",
       "      <td>0.000000</td>\n",
       "      <td>0.0</td>\n",
       "      <td>0.000000</td>\n",
       "      <td>0.000000</td>\n",
       "      <td>0.000000</td>\n",
       "      <td>...</td>\n",
       "      <td>0.000000</td>\n",
       "      <td>8.226898</td>\n",
       "      <td>0.000000</td>\n",
       "      <td>0.0</td>\n",
       "      <td>5.754258</td>\n",
       "      <td>0.000000</td>\n",
       "      <td>0.000000</td>\n",
       "      <td>0.000000</td>\n",
       "      <td>0.0</td>\n",
       "      <td>6</td>\n",
       "    </tr>\n",
       "    <tr>\n",
       "      <th>18845</th>\n",
       "      <td>0.0</td>\n",
       "      <td>0.000000</td>\n",
       "      <td>9.186374</td>\n",
       "      <td>0.000000</td>\n",
       "      <td>5.258586</td>\n",
       "      <td>0.000000</td>\n",
       "      <td>0.0</td>\n",
       "      <td>0.000000</td>\n",
       "      <td>0.000000</td>\n",
       "      <td>2.860838</td>\n",
       "      <td>...</td>\n",
       "      <td>0.000000</td>\n",
       "      <td>0.000000</td>\n",
       "      <td>0.000000</td>\n",
       "      <td>0.0</td>\n",
       "      <td>0.000000</td>\n",
       "      <td>0.000000</td>\n",
       "      <td>0.000000</td>\n",
       "      <td>0.000000</td>\n",
       "      <td>0.0</td>\n",
       "      <td>7</td>\n",
       "    </tr>\n",
       "  </tbody>\n",
       "</table>\n",
       "<p>18846 rows × 129 columns</p>\n",
       "</div>"
      ],
      "text/plain": [
       "       0          1         2          3         4          5    6    \\\n",
       "0      0.0  15.728111  9.099586   0.259395  5.156905   0.000000  0.0   \n",
       "1      0.0   0.000000  0.000000   0.000000  0.000000  14.229717  0.0   \n",
       "2      0.0   0.000000  0.000000  72.029411  0.000000   0.000000  0.0   \n",
       "3      0.0   0.000000  0.000000   0.000000  0.000000  14.833830  0.0   \n",
       "4      0.0   0.000000  0.000000   0.000000  4.875045   0.000000  0.0   \n",
       "...    ...        ...       ...        ...       ...        ...  ...   \n",
       "18841  0.0   0.000000  0.248722   0.000000  0.000000   3.898138  0.0   \n",
       "18842  0.0   0.000000  0.000000   0.000000  0.320675   0.000000  0.0   \n",
       "18843  0.0   0.000000  0.000000   0.000000  0.000000   0.860070  0.0   \n",
       "18844  0.0   0.000000  0.000000   0.000000  0.000000   0.000000  0.0   \n",
       "18845  0.0   0.000000  9.186374   0.000000  5.258586   0.000000  0.0   \n",
       "\n",
       "            7         8          9    ...        119       120       121  122  \\\n",
       "0      0.000000  7.731676   0.000000  ...  11.612481  0.000000  3.256385  0.0   \n",
       "1      0.000000  0.000000   0.000000  ...   0.000000  2.213775  0.000000  0.0   \n",
       "2      0.000000  0.000000  56.773968  ...   0.000000  0.000000  0.000000  0.0   \n",
       "3      0.000000  0.000000   0.000000  ...   0.000000  0.000000  0.000000  0.0   \n",
       "4      0.000000  0.000000   0.000000  ...   0.000000  0.000000  0.000000  0.0   \n",
       "...         ...       ...        ...  ...        ...       ...       ...  ...   \n",
       "18841  2.554687  0.000000   4.410306  ...   0.000000  0.000000  0.000000  0.0   \n",
       "18842  3.230011  0.000000   0.000000  ...   0.000000  1.078652  0.000000  0.0   \n",
       "18843  1.224586  0.000000   0.457255  ...   0.000000  0.000000  0.000000  0.0   \n",
       "18844  0.000000  0.000000   0.000000  ...   0.000000  8.226898  0.000000  0.0   \n",
       "18845  0.000000  0.000000   2.860838  ...   0.000000  0.000000  0.000000  0.0   \n",
       "\n",
       "            123         124       125       126  127  128  \n",
       "0      0.000000    7.129995  0.000000  3.373063  0.0    9  \n",
       "1      0.000000    0.000000  2.523506  2.307943  0.0    4  \n",
       "2      0.000000  136.649582  0.000000  0.000000  0.0   11  \n",
       "3      0.000000    0.000000  1.940317  0.000000  0.0    4  \n",
       "4      6.780793    0.000000  0.000000  0.000000  0.0    0  \n",
       "...         ...         ...       ...       ...  ...  ...  \n",
       "18841  0.000000    0.785907  0.000000  0.000000  0.0   12  \n",
       "18842  2.671853    0.000000  0.113560  0.000000  0.0    8  \n",
       "18843  0.303810    0.000000  0.000000  0.000000  0.0    4  \n",
       "18844  5.754258    0.000000  0.000000  0.000000  0.0    6  \n",
       "18845  0.000000    0.000000  0.000000  0.000000  0.0    7  \n",
       "\n",
       "[18846 rows x 129 columns]"
      ]
     },
     "execution_count": 3,
     "metadata": {},
     "output_type": "execute_result"
    }
   ],
   "source": [
    "TNG = pd.read_csv(TNG_path, header=None)\n",
    "TNG"
   ]
  },
  {
   "cell_type": "code",
   "execution_count": 4,
   "metadata": {},
   "outputs": [],
   "source": [
    "y = np.array(TNG[128])\n",
    "X = np.array(TNG[range(0,128)])"
   ]
  },
  {
   "cell_type": "code",
   "execution_count": 5,
   "metadata": {},
   "outputs": [],
   "source": [
    "from sklearn.model_selection import train_test_split"
   ]
  },
  {
   "cell_type": "code",
   "execution_count": 6,
   "metadata": {},
   "outputs": [],
   "source": [
    "X_train, X_test, y_train, y_test = train_test_split(X, y, test_size=0.2, random_state=42)"
   ]
  },
  {
   "cell_type": "markdown",
   "metadata": {},
   "source": [
    "### 2. Celem projektu jest porównanie dwóch klasyfikatorów: klasyfikatora AdaBoost użytego dla pełnych danych oraz sieci neuronowej MLP.  \n",
    "\n",
    "(mamy użyć \"kilku\" warstw MLP, np. 5)"
   ]
  },
  {
   "cell_type": "markdown",
   "metadata": {},
   "source": [
    "# MLP"
   ]
  },
  {
   "cell_type": "code",
   "execution_count": 19,
   "metadata": {},
   "outputs": [],
   "source": [
    "from sklearn.neural_network import MLPClassifier\n",
    "from sklearn.metrics import accuracy_score"
   ]
  },
  {
   "cell_type": "code",
   "execution_count": 41,
   "metadata": {},
   "outputs": [],
   "source": [
    "#mlp = MLPClassifier(hidden_layer_sizes=(74,74,74,74,))\n",
    "mlp = MLPClassifier(hidden_layer_sizes=(128,128,128,128,128,), max_iter=400,)"
   ]
  },
  {
   "cell_type": "code",
   "execution_count": 29,
   "metadata": {},
   "outputs": [
    {
     "data": {
      "text/plain": [
       "MLPClassifier(activation='relu', alpha=0.0001, batch_size='auto', beta_1=0.9,\n",
       "              beta_2=0.999, early_stopping=False, epsilon=1e-08,\n",
       "              hidden_layer_sizes=(128, 128, 128, 128, 128),\n",
       "              learning_rate='constant', learning_rate_init=0.001, max_fun=15000,\n",
       "              max_iter=200, momentum=0.9, n_iter_no_change=10,\n",
       "              nesterovs_momentum=True, power_t=0.5, random_state=None,\n",
       "              shuffle=True, solver='adam', tol=0.0001, validation_fraction=0.1,\n",
       "              verbose=False, warm_start=False)"
      ]
     },
     "execution_count": 29,
     "metadata": {},
     "output_type": "execute_result"
    }
   ],
   "source": [
    "mlp.fit(X_train,y_train)"
   ]
  },
  {
   "cell_type": "code",
   "execution_count": 30,
   "metadata": {},
   "outputs": [],
   "source": [
    "y_predicted = mlp.predict(X_test)"
   ]
  },
  {
   "cell_type": "code",
   "execution_count": 31,
   "metadata": {},
   "outputs": [
    {
     "data": {
      "text/plain": [
       "0.9294429708222812"
      ]
     },
     "execution_count": 31,
     "metadata": {},
     "output_type": "execute_result"
    }
   ],
   "source": [
    "accuracy_score(y_test, y_predicted)"
   ]
  },
  {
   "cell_type": "markdown",
   "metadata": {},
   "source": [
    "# AdaBoost"
   ]
  },
  {
   "cell_type": "code",
   "execution_count": 103,
   "metadata": {},
   "outputs": [],
   "source": [
    "from sklearn.ensemble import AdaBoostClassifier\n",
    "from sklearn.svm import SVC\n",
    "from sklearn.ensemble import RandomForestClassifier\n",
    "from sklearn.neighbors import KNeighborsClassifier\n",
    "from sklearn.metrics import accuracy_score"
   ]
  },
  {
   "cell_type": "code",
   "execution_count": 33,
   "metadata": {},
   "outputs": [],
   "source": [
    "estimators = [None, # None in adaboost uses DecisionTreeClassifier(max_depth=1)\n",
    "              SVC(probability=True), # Do you have so much time?\n",
    "              RandomForestClassifier(n_estimators=20, n_jobs=4) # Best one\n",
    "             ] \n",
    "ada = AdaBoostClassifier(n_estimators=20, base_estimator=estimators[2])"
   ]
  },
  {
   "cell_type": "code",
   "execution_count": 34,
   "metadata": {},
   "outputs": [
    {
     "data": {
      "text/plain": [
       "AdaBoostClassifier(algorithm='SAMME.R',\n",
       "                   base_estimator=RandomForestClassifier(bootstrap=True,\n",
       "                                                         ccp_alpha=0.0,\n",
       "                                                         class_weight=None,\n",
       "                                                         criterion='gini',\n",
       "                                                         max_depth=None,\n",
       "                                                         max_features='auto',\n",
       "                                                         max_leaf_nodes=None,\n",
       "                                                         max_samples=None,\n",
       "                                                         min_impurity_decrease=0.0,\n",
       "                                                         min_impurity_split=None,\n",
       "                                                         min_samples_leaf=1,\n",
       "                                                         min_samples_split=2,\n",
       "                                                         min_weight_fraction_leaf=0.0,\n",
       "                                                         n_estimators=20,\n",
       "                                                         n_jobs=4,\n",
       "                                                         oob_score=False,\n",
       "                                                         random_state=None,\n",
       "                                                         verbose=0,\n",
       "                                                         warm_start=False),\n",
       "                   learning_rate=1.0, n_estimators=20, random_state=None)"
      ]
     },
     "execution_count": 34,
     "metadata": {},
     "output_type": "execute_result"
    }
   ],
   "source": [
    "ada.fit(X_train,y_train)"
   ]
  },
  {
   "cell_type": "code",
   "execution_count": 35,
   "metadata": {},
   "outputs": [],
   "source": [
    "y_predicted = ada.predict(X_test)"
   ]
  },
  {
   "cell_type": "code",
   "execution_count": 36,
   "metadata": {},
   "outputs": [
    {
     "data": {
      "text/plain": [
       "0.9374005305039788"
      ]
     },
     "execution_count": 36,
     "metadata": {},
     "output_type": "execute_result"
    }
   ],
   "source": [
    "accuracy_score(y_test, y_predicted)"
   ]
  },
  {
   "cell_type": "code",
   "execution_count": null,
   "metadata": {},
   "outputs": [],
   "source": []
  },
  {
   "cell_type": "markdown",
   "metadata": {},
   "source": [
    "### 3. Ocenić moc obu (robustness) klasyfikatorów na ich jakość w zależności od stopnia zaszumienia wejściowych danych.\n",
    "\n",
    "\n",
    "“moc na ich jakość” - jak należy to rozumieć? Jak mamy “zaszumić” dane (jakiej miary użyć)?\n",
    "mamy pozamieniać 10, 20 , 30% etykiet\n",
    "robustness to własnie odporność na te zmiany, accuracy jako miara ma byc\n"
   ]
  },
  {
   "cell_type": "code",
   "execution_count": 42,
   "metadata": {},
   "outputs": [],
   "source": [
    "import random"
   ]
  },
  {
   "cell_type": "code",
   "execution_count": 43,
   "metadata": {},
   "outputs": [],
   "source": [
    "def noised_label(l, rng_min=0, rng_max=19):\n",
    "    nl = random.randint(rng_min, rng_max)\n",
    "    while nl == l:\n",
    "        nl = random.randint(rng_min, rng_max)\n",
    "    return nl\n",
    "    \n",
    "def noise(X, y, noise_size):\n",
    "    if noise_size == 0:\n",
    "        return X, y\n",
    "    X_pure, X_to_noise, y_pure, y_to_noise = train_test_split(X, y, \n",
    "                                                              test_size=noise_size, random_state=42)\n",
    "    noised = [ noised_label(y) for y in y_to_noise ] \n",
    "    X_noised = np.concatenate((X_pure, X_to_noise), axis=0)\n",
    "    y_noised = np.concatenate((y_pure, noised), axis=0)\n",
    "    y_shuffled = np.concatenate((y_pure, y_to_noise), axis=0)\n",
    "    print(\"Simple check for noise_size {}: {}\".format(noise_size, accuracy_score(y_shuffled, y_noised)))\n",
    "    return X_noised, y_noised"
   ]
  },
  {
   "cell_type": "code",
   "execution_count": 44,
   "metadata": {},
   "outputs": [],
   "source": [
    "def get_accuracy(clf, X_train, X_test, y_train, y_test):\n",
    "    clf.fit(X_train, y_train)\n",
    "    y_predicted = clf.predict(X_test)\n",
    "    return accuracy_score(y_predicted, y_test)\n",
    "    \n",
    "def compare(clf1, clf2, X_train, X_test, y_train, y_test):\n",
    "    acc1 = get_accuracy(clf1, X_train, X_test, y_train, y_test)\n",
    "    acc2 = get_accuracy(clf2, X_train, X_test, y_train, y_test)\n",
    "    return acc1, acc2"
   ]
  },
  {
   "cell_type": "code",
   "execution_count": 45,
   "metadata": {},
   "outputs": [
    {
     "name": "stdout",
     "output_type": "stream",
     "text": [
      "Simple check for noise_size 0.1: 0.8999734677633324\n",
      "Simple check for noise_size 0.2: 0.7999469355266648\n",
      "Simple check for noise_size 0.3: 0.6999867338816662\n"
     ]
    }
   ],
   "source": [
    "noise_sizes = [0, 0.1, 0.2, 0.3]\n",
    "ada_scores = []\n",
    "mlp_scores = []\n",
    "for noise_size in noise_sizes:\n",
    "#     X_train_noised, y_train_noised = noise(X_train[:1000], y_train[:1000], noise_size)\n",
    "    X_train_noised, y_train_noised = noise(X_train, y_train, noise_size)\n",
    "    ada_acc, mlp_acc = compare(ada, mlp, X_train_noised, X_test, y_train_noised, y_test)\n",
    "    ada_scores.append(ada_acc)\n",
    "    mlp_scores.append(mlp_acc)"
   ]
  },
  {
   "cell_type": "code",
   "execution_count": 46,
   "metadata": {},
   "outputs": [
    {
     "data": {
      "text/html": [
       "<div>\n",
       "<style scoped>\n",
       "    .dataframe tbody tr th:only-of-type {\n",
       "        vertical-align: middle;\n",
       "    }\n",
       "\n",
       "    .dataframe tbody tr th {\n",
       "        vertical-align: top;\n",
       "    }\n",
       "\n",
       "    .dataframe thead th {\n",
       "        text-align: right;\n",
       "    }\n",
       "</style>\n",
       "<table border=\"1\" class=\"dataframe\">\n",
       "  <thead>\n",
       "    <tr style=\"text-align: right;\">\n",
       "      <th></th>\n",
       "      <th>noise size</th>\n",
       "      <th>ada boost accuracy</th>\n",
       "      <th>mlp accuracy</th>\n",
       "    </tr>\n",
       "  </thead>\n",
       "  <tbody>\n",
       "    <tr>\n",
       "      <th>0</th>\n",
       "      <td>0.0</td>\n",
       "      <td>0.935279</td>\n",
       "      <td>0.928117</td>\n",
       "    </tr>\n",
       "    <tr>\n",
       "      <th>1</th>\n",
       "      <td>0.1</td>\n",
       "      <td>0.935809</td>\n",
       "      <td>0.868170</td>\n",
       "    </tr>\n",
       "    <tr>\n",
       "      <th>2</th>\n",
       "      <td>0.2</td>\n",
       "      <td>0.933687</td>\n",
       "      <td>0.837401</td>\n",
       "    </tr>\n",
       "    <tr>\n",
       "      <th>3</th>\n",
       "      <td>0.3</td>\n",
       "      <td>0.931034</td>\n",
       "      <td>0.732626</td>\n",
       "    </tr>\n",
       "  </tbody>\n",
       "</table>\n",
       "</div>"
      ],
      "text/plain": [
       "   noise size  ada boost accuracy  mlp accuracy\n",
       "0         0.0            0.935279      0.928117\n",
       "1         0.1            0.935809      0.868170\n",
       "2         0.2            0.933687      0.837401\n",
       "3         0.3            0.931034      0.732626"
      ]
     },
     "execution_count": 46,
     "metadata": {},
     "output_type": "execute_result"
    }
   ],
   "source": [
    "df = pd.DataFrame()\n",
    "df[\"noise size\"] = noise_sizes\n",
    "df[\"ada boost accuracy\"] = ada_scores\n",
    "df[\"mlp accuracy\"] = mlp_scores\n",
    "df"
   ]
  },
  {
   "cell_type": "markdown",
   "metadata": {},
   "source": [
    "### 4. Jak zmieni się jakość klasyfikatorów po użyciu transformacji PCA.\n",
    "\n",
    "Czy PCA ma być ND->ND czy ND -> N’D (N’<<N)?\n",
    "zrobić n-n, a potem n na mniej nie może być zbyt mała 30 okej\n"
   ]
  },
  {
   "cell_type": "code",
   "execution_count": 47,
   "metadata": {},
   "outputs": [],
   "source": [
    "from sklearn.decomposition import PCA"
   ]
  },
  {
   "cell_type": "code",
   "execution_count": 48,
   "metadata": {},
   "outputs": [],
   "source": [
    "def compare_pca(clf1, clf2, X_train, X_test, y_train, y_test, n_components):\n",
    "    pca = PCA(n_components=n_components)\n",
    "    pca.fit(X_train)\n",
    "    X_train_pcaed = pca.transform(X_train)\n",
    "    X_test_pcaed = pca.transform(X_test)\n",
    "    return compare(clf1, clf2, X_train_pcaed, X_test_pcaed, y_train, y_test)"
   ]
  },
  {
   "cell_type": "code",
   "execution_count": 49,
   "metadata": {},
   "outputs": [],
   "source": [
    "ns = [X_train.shape[1], 30]\n",
    "ada_scores = []\n",
    "mlp_scores = []\n",
    "for n in ns:\n",
    "    ada_acc, mlp_acc = compare_pca(ada, mlp, X_train, X_test, y_train, y_test, n)\n",
    "    ada_scores.append(ada_acc)\n",
    "    mlp_scores.append(mlp_acc)"
   ]
  },
  {
   "cell_type": "code",
   "execution_count": 50,
   "metadata": {},
   "outputs": [
    {
     "data": {
      "text/html": [
       "<div>\n",
       "<style scoped>\n",
       "    .dataframe tbody tr th:only-of-type {\n",
       "        vertical-align: middle;\n",
       "    }\n",
       "\n",
       "    .dataframe tbody tr th {\n",
       "        vertical-align: top;\n",
       "    }\n",
       "\n",
       "    .dataframe thead th {\n",
       "        text-align: right;\n",
       "    }\n",
       "</style>\n",
       "<table border=\"1\" class=\"dataframe\">\n",
       "  <thead>\n",
       "    <tr style=\"text-align: right;\">\n",
       "      <th></th>\n",
       "      <th>n_components</th>\n",
       "      <th>ada boost accuracy</th>\n",
       "      <th>mlp accuracy</th>\n",
       "    </tr>\n",
       "  </thead>\n",
       "  <tbody>\n",
       "    <tr>\n",
       "      <th>0</th>\n",
       "      <td>128</td>\n",
       "      <td>0.931034</td>\n",
       "      <td>0.931300</td>\n",
       "    </tr>\n",
       "    <tr>\n",
       "      <th>1</th>\n",
       "      <td>30</td>\n",
       "      <td>0.936870</td>\n",
       "      <td>0.937135</td>\n",
       "    </tr>\n",
       "  </tbody>\n",
       "</table>\n",
       "</div>"
      ],
      "text/plain": [
       "   n_components  ada boost accuracy  mlp accuracy\n",
       "0           128            0.931034      0.931300\n",
       "1            30            0.936870      0.937135"
      ]
     },
     "execution_count": 50,
     "metadata": {},
     "output_type": "execute_result"
    }
   ],
   "source": [
    "df = pd.DataFrame()\n",
    "df[\"n_components\"] = ns\n",
    "df[\"ada boost accuracy\"] = ada_scores\n",
    "df[\"mlp accuracy\"] = mlp_scores\n",
    "df"
   ]
  },
  {
   "cell_type": "markdown",
   "metadata": {},
   "source": [
    "### 5. Wyniki jakości klasyfikatorów oceniać na bazie krzyżowej-walidacji, (accuracy - Loss- błąd, Krzywa ROC, Precision-Recall, (pola pod krzywymi) F1).\n",
    "\n",
    "Loss tylko w odniesieniu do MLP, a error do AdaBoost? Log Loss?\n",
    "Jak zrobić ROC  (weighted?), Precision-Recall dla wielu klas? micro-averaged?\n",
    "Upewnić się - F1 jako score, a nie krzywa?\n",
    "\n",
    "Dla wielu klas możemy też narysować, on chce “uzupełnić lukę w wiedzy” czy jakoś tak\n"
   ]
  },
  {
   "cell_type": "code",
   "execution_count": 93,
   "metadata": {},
   "outputs": [],
   "source": [
    "from sklearn.model_selection import cross_val_score\n",
    "from sklearn.multiclass import OneVsRestClassifier\n",
    "import matplotlib.pyplot as plt"
   ]
  },
  {
   "cell_type": "code",
   "execution_count": 90,
   "metadata": {},
   "outputs": [],
   "source": [
    "scoring_metrics = ['accuracy', \n",
    "                   'neg_log_loss',\n",
    "                   # error ?\n",
    "                   'roc_auc_ovr_weighted',\n",
    "                   #'average_precision', # precision-recall auc - only for binary classification\n",
    "                   'f1_weighted',\n",
    "                  ]"
   ]
  },
  {
   "cell_type": "code",
   "execution_count": 91,
   "metadata": {},
   "outputs": [],
   "source": [
    "def evaluate_cv(X_train=X_train, y_train=y_train, scoring_metrics=scoring_metrics, n_jobs=-1):\n",
    "    mlp_scores = []\n",
    "    ada_scores = []\n",
    "     \n",
    "    for scoring in scoring_metrics:\n",
    "        mlp_results = cross_val_score(mlp, X_train, y_train, cv=5, scoring=scoring, n_jobs=n_jobs)\n",
    "        mlp_scores.append(np.mean(mlp_results))\n",
    "        ada_results = cross_val_score(ada, X_train, y_train, cv=5, scoring=scoring, n_jobs=n_jobs)\n",
    "        ada_scores.append(np.mean(ada_results))\n",
    "    \n",
    "#     mlp_bin = OneVsRestClassifier(mlp)\n",
    "#     ada_bin = OneVsRestClassifier(ada)    \n",
    "#     mlp_results = cross_val_score(mlp_bin, X_train, y_train, cv=5, scoring='average_precision', n_jobs=n_jobs)\n",
    "#     mlp_scores.append(np.mean(mlp_results))\n",
    "#     ada_results = cross_val_score(ada_bin, X_train, y_train, cv=5, scoring='average_precision', n_jobs=n_jobs)\n",
    "#     ada_scores.append(np.mean(ada_results))    \n",
    "    \n",
    "    df = pd.DataFrame()\n",
    "    df['metric'] = scoring_metrics\n",
    "    df['MLP'] = mlp_scores\n",
    "    df['AdaBoost'] = ada_scores\n",
    "    \n",
    "    return df\n"
   ]
  },
  {
   "cell_type": "code",
   "execution_count": 92,
   "metadata": {},
   "outputs": [
    {
     "data": {
      "text/html": [
       "<div>\n",
       "<style scoped>\n",
       "    .dataframe tbody tr th:only-of-type {\n",
       "        vertical-align: middle;\n",
       "    }\n",
       "\n",
       "    .dataframe tbody tr th {\n",
       "        vertical-align: top;\n",
       "    }\n",
       "\n",
       "    .dataframe thead th {\n",
       "        text-align: right;\n",
       "    }\n",
       "</style>\n",
       "<table border=\"1\" class=\"dataframe\">\n",
       "  <thead>\n",
       "    <tr style=\"text-align: right;\">\n",
       "      <th></th>\n",
       "      <th>metric</th>\n",
       "      <th>MLP</th>\n",
       "      <th>AdaBoost</th>\n",
       "    </tr>\n",
       "  </thead>\n",
       "  <tbody>\n",
       "    <tr>\n",
       "      <th>0</th>\n",
       "      <td>accuracy</td>\n",
       "      <td>0.923333</td>\n",
       "      <td>0.916667</td>\n",
       "    </tr>\n",
       "    <tr>\n",
       "      <th>1</th>\n",
       "      <td>neg_log_loss</td>\n",
       "      <td>-0.517207</td>\n",
       "      <td>-0.939845</td>\n",
       "    </tr>\n",
       "    <tr>\n",
       "      <th>2</th>\n",
       "      <td>roc_auc_ovr_weighted</td>\n",
       "      <td>0.995514</td>\n",
       "      <td>0.990350</td>\n",
       "    </tr>\n",
       "    <tr>\n",
       "      <th>3</th>\n",
       "      <td>f1_weighted</td>\n",
       "      <td>0.925042</td>\n",
       "      <td>0.902667</td>\n",
       "    </tr>\n",
       "  </tbody>\n",
       "</table>\n",
       "</div>"
      ],
      "text/plain": [
       "                 metric       MLP  AdaBoost\n",
       "0              accuracy  0.923333  0.916667\n",
       "1          neg_log_loss -0.517207 -0.939845\n",
       "2  roc_auc_ovr_weighted  0.995514  0.990350\n",
       "3           f1_weighted  0.925042  0.902667"
      ]
     },
     "execution_count": 92,
     "metadata": {},
     "output_type": "execute_result"
    }
   ],
   "source": [
    "evaluate_cv(X_train[:300], y_train[:300])"
   ]
  },
  {
   "cell_type": "markdown",
   "metadata": {},
   "source": [
    "## Precision-recall curve, ROC"
   ]
  },
  {
   "cell_type": "code",
   "execution_count": 202,
   "metadata": {},
   "outputs": [],
   "source": [
    "from sklearn.metrics import accuracy_score, precision_recall_curve, roc_curve, log_loss\n",
    "from sklearn.preprocessing import label_binarize"
   ]
  },
  {
   "cell_type": "code",
   "execution_count": 203,
   "metadata": {},
   "outputs": [],
   "source": [
    "n_classes=20\n",
    "X_train, X_test, y_train, y_test = train_test_split(X, y, test_size=0.2, random_state=42)"
   ]
  },
  {
   "cell_type": "code",
   "execution_count": 204,
   "metadata": {},
   "outputs": [],
   "source": [
    "mlp = MLPClassifier(hidden_layer_sizes=(128,128,128,128,128,), max_iter=400,)"
   ]
  },
  {
   "cell_type": "code",
   "execution_count": 205,
   "metadata": {},
   "outputs": [],
   "source": [
    "ada = AdaBoostClassifier(n_estimators=20, base_estimator=RandomForestClassifier(n_estimators=20, n_jobs=-1))"
   ]
  },
  {
   "cell_type": "code",
   "execution_count": 206,
   "metadata": {},
   "outputs": [],
   "source": [
    "# X_train = X_train[:300]\n",
    "# y_train = label_binarize(y_train[:300], classes=[x for x in range(n_classes)])\n",
    "# X_test = X_test[:300]\n",
    "# y_test = label_binarize(y_test[:300], classes=[x for x in range(n_classes)])\n",
    "\n",
    "X_train = X_train[:]\n",
    "y_train = label_binarize(y_train[:], classes=[x for x in range(n_classes)])\n",
    "X_test = X_test[:]\n",
    "y_test = label_binarize(y_test[:], classes=[x for x in range(n_classes)])"
   ]
  },
  {
   "cell_type": "code",
   "execution_count": 207,
   "metadata": {},
   "outputs": [],
   "source": [
    "clf = OneVsRestClassifier(mlp, n_jobs=-1)\n",
    "clf.fit(X_train, y_train)\n",
    "y_score = clf.predict_proba(X_test)"
   ]
  },
  {
   "cell_type": "code",
   "execution_count": 208,
   "metadata": {},
   "outputs": [
    {
     "data": {
      "image/png": "[encoded data removed]",
      "text/plain": [
       "<Figure size 432x288 with 1 Axes>"
      ]
     },
     "metadata": {
      "needs_background": "light"
     },
     "output_type": "display_data"
    }
   ],
   "source": [
    "# MLP precision-recall curve\n",
    "precision = dict()\n",
    "recall = dict()\n",
    "for i in range(n_classes):\n",
    "    precision[i], recall[i], _ = precision_recall_curve(y_test[:, i],\n",
    "                                                        y_score[:, i])\n",
    "    plt.plot(recall[i], precision[i], lw=2, label='class {}'.format(i))\n",
    "\n",
    "plt.xlabel(\"recall\")\n",
    "plt.ylabel(\"precision\")\n",
    "plt.legend(loc=\"best\")\n",
    "plt.title(\"precision vs. recall curve\")\n",
    "plt.show()"
   ]
  },
  {
   "cell_type": "code",
   "execution_count": 209,
   "metadata": {},
   "outputs": [
    {
     "data": {
      "image/png": "[encoded data removed]",
      "text/plain": [
       "<Figure size 432x288 with 1 Axes>"
      ]
     },
     "metadata": {
      "needs_background": "light"
     },
     "output_type": "display_data"
    }
   ],
   "source": [
    "# MLP ROC curve\n",
    "fpr = dict()\n",
    "tpr = dict()\n",
    "\n",
    "for i in range(n_classes):\n",
    "    fpr[i], tpr[i], _ = roc_curve(y_test[:, i],\n",
    "                                  y_score[:, i])\n",
    "    plt.plot(fpr[i], tpr[i], lw=2, label='class {}'.format(i))\n",
    "\n",
    "plt.xlabel(\"false positive rate\")\n",
    "plt.ylabel(\"true positive rate\")\n",
    "plt.legend(loc=\"best\")\n",
    "plt.title(\"ROC curve\")\n",
    "plt.show()"
   ]
  },
  {
   "cell_type": "code",
   "execution_count": 210,
   "metadata": {},
   "outputs": [],
   "source": [
    "clf = OneVsRestClassifier(ada, n_jobs=-1)\n",
    "clf.fit(X_train, y_train)\n",
    "y_score = clf.predict_proba(X_test)"
   ]
  },
  {
   "cell_type": "code",
   "execution_count": 211,
   "metadata": {},
   "outputs": [
    {
     "data": {
      "image/png": "[encoded data removed]",
      "text/plain": [
       "<Figure size 432x288 with 1 Axes>"
      ]
     },
     "metadata": {
      "needs_background": "light"
     },
     "output_type": "display_data"
    }
   ],
   "source": [
    "# AdaBoost precision-recall curve\n",
    "\n",
    "precision = dict()\n",
    "recall = dict()\n",
    "for i in range(n_classes):\n",
    "    precision[i], recall[i], _ = precision_recall_curve(y_test[:, i],\n",
    "                                                        y_score[:, i])\n",
    "    plt.plot(recall[i], precision[i], lw=2, label='class {}'.format(i))\n",
    "\n",
    "plt.xlabel(\"recall\")\n",
    "plt.ylabel(\"precision\")\n",
    "plt.legend(loc=\"best\")\n",
    "plt.title(\"precision vs. recall curve\")\n",
    "plt.show()"
   ]
  },
  {
   "cell_type": "code",
   "execution_count": 212,
   "metadata": {},
   "outputs": [
    {
     "data": {
      "image/png": "[encoded data removed]",
      "text/plain": [
       "<Figure size 432x288 with 1 Axes>"
      ]
     },
     "metadata": {
      "needs_background": "light"
     },
     "output_type": "display_data"
    }
   ],
   "source": [
    "# AdaBoost ROC curve\n",
    "fpr = dict()\n",
    "tpr = dict()\n",
    "\n",
    "for i in range(n_classes):\n",
    "    fpr[i], tpr[i], _ = roc_curve(y_test[:, i],\n",
    "                                  y_score[:, i])\n",
    "    plt.plot(fpr[i], tpr[i], lw=2, label='class {}'.format(i))\n",
    "\n",
    "plt.xlabel(\"false positive rate\")\n",
    "plt.ylabel(\"true positive rate\")\n",
    "plt.legend(loc=\"best\")\n",
    "plt.title(\"ROC curve\")\n",
    "plt.show()"
   ]
  },
  {
   "cell_type": "markdown",
   "metadata": {},
   "source": [
    "### 6. Dokonać porównania wyników tzn: accuracy i loss. Jakość klasyfikatorów porównywać dla 3 budżetów czasowych T1, T2, T3 (krótki, średni i długi).\n"
   ]
  },
  {
   "cell_type": "code",
   "execution_count": 141,
   "metadata": {},
   "outputs": [],
   "source": [
    "X_train, X_test, y_train, y_test = train_test_split(X, y, test_size=0.2, random_state=42)"
   ]
  },
  {
   "cell_type": "code",
   "execution_count": 142,
   "metadata": {},
   "outputs": [],
   "source": [
    "estimators = [None, # None in adaboost uses DecisionTreeClassifier(max_depth=1)\n",
    "              SVC(probability=True), # Do you have so much time?\n",
    "              RandomForestClassifier(n_estimators=20, n_jobs=4) # Best one\n",
    "             ] "
   ]
  },
  {
   "cell_type": "code",
   "execution_count": 143,
   "metadata": {},
   "outputs": [],
   "source": [
    "mlp_budgets = [50, 100, 200]\n",
    "ada_budgets = [5, 10, 20]"
   ]
  },
  {
   "cell_type": "code",
   "execution_count": 154,
   "metadata": {},
   "outputs": [],
   "source": [
    "def evaluate_budgets():\n",
    "    mlp_acc = []\n",
    "    mlp_loss = []\n",
    "    ada_acc = []\n",
    "    ada_loss = []\n",
    "    \n",
    "    classes = [x for x in range(n_classes)]\n",
    "    \n",
    "    for budget in mlp_budgets:\n",
    "        mlp = MLPClassifier(hidden_layer_sizes=(128,128,128,128,128,), max_iter=budget)\n",
    "        mlp.fit(X_train, y_train)\n",
    "        y_predicted = mlp.predict(X_test)\n",
    "        y_prob = mlp.predict_proba(X_test)\n",
    "        mlp_acc.append(accuracy_score(y_test, y_predicted))\n",
    "        mlp_loss.append(log_loss(y_test, y_prob))\n",
    "\n",
    "    for budget in ada_budgets:\n",
    "        ada = AdaBoostClassifier(n_estimators=budget, base_estimator=estimators[2])\n",
    "        ada.fit(X_train, y_train)\n",
    "        y_predicted = ada.predict(X_test)\n",
    "        y_prob = ada.predict_proba(X_test)\n",
    "        ada_acc.append(accuracy_score(y_test, y_predicted))\n",
    "        ada_loss.append(log_loss(y_test, y_prob))         \n",
    "    \n",
    "    df = pd.DataFrame()\n",
    "    df['budget'] = ['short', 'medium', 'long']\n",
    "    df['MLP accuracy'] = mlp_acc\n",
    "    df['MLP log loss'] = mlp_loss\n",
    "    df['AdaBoost accuracy'] = ada_acc\n",
    "    df['AdaBoost log loss'] = ada_loss\n",
    "    \n",
    "    return df"
   ]
  },
  {
   "cell_type": "code",
   "execution_count": 155,
   "metadata": {},
   "outputs": [
    {
     "name": "stderr",
     "output_type": "stream",
     "text": [
      "/usr/local/anaconda3/envs/ml-lab/lib/python3.7/site-packages/sklearn/neural_network/_multilayer_perceptron.py:571: ConvergenceWarning: Stochastic Optimizer: Maximum iterations (50) reached and the optimization hasn't converged yet.\n",
      "  % self.max_iter, ConvergenceWarning)\n",
      "/usr/local/anaconda3/envs/ml-lab/lib/python3.7/site-packages/sklearn/neural_network/_multilayer_perceptron.py:571: ConvergenceWarning: Stochastic Optimizer: Maximum iterations (100) reached and the optimization hasn't converged yet.\n",
      "  % self.max_iter, ConvergenceWarning)\n"
     ]
    },
    {
     "data": {
      "text/html": [
       "<div>\n",
       "<style scoped>\n",
       "    .dataframe tbody tr th:only-of-type {\n",
       "        vertical-align: middle;\n",
       "    }\n",
       "\n",
       "    .dataframe tbody tr th {\n",
       "        vertical-align: top;\n",
       "    }\n",
       "\n",
       "    .dataframe thead th {\n",
       "        text-align: right;\n",
       "    }\n",
       "</style>\n",
       "<table border=\"1\" class=\"dataframe\">\n",
       "  <thead>\n",
       "    <tr style=\"text-align: right;\">\n",
       "      <th></th>\n",
       "      <th>budget</th>\n",
       "      <th>MLP accuracy</th>\n",
       "      <th>MLP log loss</th>\n",
       "      <th>AdaBoost accuracy</th>\n",
       "      <th>AdaBoost log loss</th>\n",
       "    </tr>\n",
       "  </thead>\n",
       "  <tbody>\n",
       "    <tr>\n",
       "      <th>0</th>\n",
       "      <td>short</td>\n",
       "      <td>0.935809</td>\n",
       "      <td>0.357352</td>\n",
       "      <td>0.936605</td>\n",
       "      <td>0.629040</td>\n",
       "    </tr>\n",
       "    <tr>\n",
       "      <th>1</th>\n",
       "      <td>medium</td>\n",
       "      <td>0.928382</td>\n",
       "      <td>0.560752</td>\n",
       "      <td>0.936605</td>\n",
       "      <td>0.465267</td>\n",
       "    </tr>\n",
       "    <tr>\n",
       "      <th>2</th>\n",
       "      <td>long</td>\n",
       "      <td>0.927321</td>\n",
       "      <td>0.594785</td>\n",
       "      <td>0.936340</td>\n",
       "      <td>0.362758</td>\n",
       "    </tr>\n",
       "  </tbody>\n",
       "</table>\n",
       "</div>"
      ],
      "text/plain": [
       "   budget  MLP accuracy  MLP log loss  AdaBoost accuracy  AdaBoost log loss\n",
       "0   short      0.935809      0.357352           0.936605           0.629040\n",
       "1  medium      0.928382      0.560752           0.936605           0.465267\n",
       "2    long      0.927321      0.594785           0.936340           0.362758"
      ]
     },
     "execution_count": 155,
     "metadata": {},
     "output_type": "execute_result"
    }
   ],
   "source": [
    "evaluate_budgets()"
   ]
  },
  {
   "cell_type": "markdown",
   "metadata": {},
   "source": [
    "### 7. Należy dokonać badań:\n",
    "### a. 5,6. (3.5)\n",
    "### b. 3,4 (4.0)\n",
    "### c. Znaleźć zestaw cech, który jest głównie odpowiedzialny za przynależność do odpowiednich klas. (5.0)\n",
    "\n",
    "Użyć RFE? Albo RandomForest do określenia ranków cech?  Tak, możemy RandomForest\n"
   ]
  },
  {
   "cell_type": "code",
   "execution_count": 187,
   "metadata": {},
   "outputs": [],
   "source": [
    "ada = AdaBoostClassifier(n_estimators=20, base_estimator=RandomForestClassifier(n_estimators=50, n_jobs=-1))"
   ]
  },
  {
   "cell_type": "code",
   "execution_count": 188,
   "metadata": {},
   "outputs": [
    {
     "data": {
      "text/plain": [
       "AdaBoostClassifier(algorithm='SAMME.R',\n",
       "                   base_estimator=RandomForestClassifier(bootstrap=True,\n",
       "                                                         ccp_alpha=0.0,\n",
       "                                                         class_weight=None,\n",
       "                                                         criterion='gini',\n",
       "                                                         max_depth=None,\n",
       "                                                         max_features='auto',\n",
       "                                                         max_leaf_nodes=None,\n",
       "                                                         max_samples=None,\n",
       "                                                         min_impurity_decrease=0.0,\n",
       "                                                         min_impurity_split=None,\n",
       "                                                         min_samples_leaf=1,\n",
       "                                                         min_samples_split=2,\n",
       "                                                         min_weight_fraction_leaf=0.0,\n",
       "                                                         n_estimators=50,\n",
       "                                                         n_jobs=-1,\n",
       "                                                         oob_score=False,\n",
       "                                                         random_state=None,\n",
       "                                                         verbose=0,\n",
       "                                                         warm_start=False),\n",
       "                   learning_rate=1.0, n_estimators=20, random_state=None)"
      ]
     },
     "execution_count": 188,
     "metadata": {},
     "output_type": "execute_result"
    }
   ],
   "source": [
    "ada.fit(X_train,y_train)"
   ]
  },
  {
   "cell_type": "code",
   "execution_count": 189,
   "metadata": {},
   "outputs": [
    {
     "name": "stderr",
     "output_type": "stream",
     "text": [
      "/usr/local/anaconda3/envs/ml-lab/lib/python3.7/site-packages/sklearn/tree/_classes.py:578: RuntimeWarning: invalid value encountered in true_divide\n",
      "  return self.tree_.compute_feature_importances()\n"
     ]
    },
    {
     "data": {
      "text/plain": [
       "array([nan, nan, nan, nan, nan, nan, nan, nan, nan, nan, nan, nan, nan,\n",
       "       nan, nan, nan, nan, nan, nan, nan, nan, nan, nan, nan, nan, nan,\n",
       "       nan, nan, nan, nan, nan, nan, nan, nan, nan, nan, nan, nan, nan,\n",
       "       nan, nan, nan, nan, nan, nan, nan, nan, nan, nan, nan, nan, nan,\n",
       "       nan, nan, nan, nan, nan, nan, nan, nan, nan, nan, nan, nan, nan,\n",
       "       nan, nan, nan, nan, nan, nan, nan, nan, nan, nan, nan, nan, nan,\n",
       "       nan, nan, nan, nan, nan, nan, nan, nan, nan, nan, nan, nan, nan,\n",
       "       nan, nan, nan, nan, nan, nan, nan, nan, nan, nan, nan, nan, nan,\n",
       "       nan, nan, nan, nan, nan, nan, nan, nan, nan, nan, nan, nan, nan,\n",
       "       nan, nan, nan, nan, nan, nan, nan, nan, nan, nan, nan])"
      ]
     },
     "execution_count": 189,
     "metadata": {},
     "output_type": "execute_result"
    }
   ],
   "source": [
    "ada.feature_importances_"
   ]
  },
  {
   "cell_type": "code",
   "execution_count": 160,
   "metadata": {},
   "outputs": [
    {
     "data": {
      "text/plain": [
       "0.9360742705570292"
      ]
     },
     "execution_count": 160,
     "metadata": {},
     "output_type": "execute_result"
    }
   ],
   "source": []
  },
  {
   "cell_type": "code",
   "execution_count": 164,
   "metadata": {},
   "outputs": [],
   "source": [
    "clf = RandomForestClassifier(n_estimators=20, n_jobs=-1)"
   ]
  },
  {
   "cell_type": "code",
   "execution_count": 165,
   "metadata": {},
   "outputs": [
    {
     "data": {
      "text/plain": [
       "RandomForestClassifier(bootstrap=True, ccp_alpha=0.0, class_weight=None,\n",
       "                       criterion='gini', max_depth=None, max_features='auto',\n",
       "                       max_leaf_nodes=None, max_samples=None,\n",
       "                       min_impurity_decrease=0.0, min_impurity_split=None,\n",
       "                       min_samples_leaf=1, min_samples_split=2,\n",
       "                       min_weight_fraction_leaf=0.0, n_estimators=20, n_jobs=-1,\n",
       "                       oob_score=False, random_state=None, verbose=0,\n",
       "                       warm_start=False)"
      ]
     },
     "execution_count": 165,
     "metadata": {},
     "output_type": "execute_result"
    }
   ],
   "source": [
    "clf.fit(X_train, y_train)"
   ]
  },
  {
   "cell_type": "code",
   "execution_count": 177,
   "metadata": {},
   "outputs": [],
   "source": [
    "importances = [(f_no, importance)  for (f_no, importance) in enumerate(clf.feature_importances_)]"
   ]
  },
  {
   "cell_type": "code",
   "execution_count": 181,
   "metadata": {},
   "outputs": [],
   "source": [
    "importances.sort(key=lambda x: -x[1])"
   ]
  },
  {
   "cell_type": "code",
   "execution_count": 183,
   "metadata": {},
   "outputs": [
    {
     "data": {
      "text/plain": [
       "[(32, 0.0233871394569857),\n",
       " (56, 0.020319405048144255),\n",
       " (71, 0.01976038323134153),\n",
       " (15, 0.019610421492664766),\n",
       " (18, 0.019595568313208304),\n",
       " (97, 0.018089061859414814),\n",
       " (112, 0.017840525884859137),\n",
       " (78, 0.017495506217595807),\n",
       " (114, 0.017063869312689484),\n",
       " (40, 0.016827593490835246),\n",
       " (116, 0.016723757169138227),\n",
       " (51, 0.01671409119683644),\n",
       " (60, 0.016565196049268687),\n",
       " (16, 0.016494263028860458),\n",
       " (55, 0.0161946583593352),\n",
       " (99, 0.015678468549301914),\n",
       " (27, 0.01558185647368765),\n",
       " (81, 0.01502850388874204),\n",
       " (110, 0.014740974358385565),\n",
       " (33, 0.014626048804849277)]"
      ]
     },
     "execution_count": 183,
     "metadata": {},
     "output_type": "execute_result"
    }
   ],
   "source": [
    "importances[:20]"
   ]
  },
  {
   "cell_type": "markdown",
   "metadata": {},
   "source": [
    "### 8. Należy sporządzić raport z projektu.\n",
    "\n",
    "Raport może mieć więcej niż 2 strony.\n",
    "Zalecenia do oceny jakości klasyfikacji: najpierw dobrze wykonać walidację krzyżową ma zbiorze treningowym, a dopiero potem holdout.\n",
    "\n",
    "\n"
   ]
  },
  {
   "cell_type": "code",
   "execution_count": null,
   "metadata": {},
   "outputs": [],
   "source": []
  }
 ],
 "metadata": {
  "kernelspec": {
   "display_name": "venv",
   "language": "python",
   "name": "venv"
  },
  "language_info": {
   "codemirror_mode": {
    "name": "ipython",
    "version": 3
   },
   "file_extension": ".py",
   "mimetype": "text/x-python",
   "name": "python",
   "nbconvert_exporter": "python",
   "pygments_lexer": "ipython3",
   "version": "3.7.6"
  }
 },
 "nbformat": 4,
 "nbformat_minor": 2
}
