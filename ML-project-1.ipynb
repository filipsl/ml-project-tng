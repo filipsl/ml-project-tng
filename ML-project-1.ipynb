{
 "cells": [
  {
   "cell_type": "markdown",
   "metadata": {},
   "source": [
    "# Metody Rozpoznawania Obrazów i Podstawy Uczenia Maszynowego\n",
    "\n",
    "# Nr tematu projektu: 1\n",
    "\n",
    "\n",
    "\n",
    "### Autorzy: Arkadiusz Kraus, Filip Ślazyk\n",
    "### Grupa laboratoryjna: poniedziałek 14:40 A"
   ]
  },
  {
   "cell_type": "markdown",
   "metadata": {},
   "source": [
    "### 1. Zbiór danych: TNG, ok 18000 próbek, 20 klas. Wykorzystujemy gotowe dane reprezentujące tekst blogów w postaci wektorów (dostarcza prowadzący)\n"
   ]
  },
  {
   "cell_type": "code",
   "execution_count": 1,
   "metadata": {},
   "outputs": [],
   "source": [
    "import numpy as np\n",
    "import pandas as pd"
   ]
  },
  {
   "cell_type": "code",
   "execution_count": 2,
   "metadata": {},
   "outputs": [],
   "source": [
    "TNG_prefix = './TNG'\n",
    "\n",
    "#ng20 has about 5k rows\n",
    "#ng20_all has about 19k rows\n",
    "TNG_name = 'ng20_all.csv'\n",
    "TNG_path = '{}/{}'.format(TNG_prefix, TNG_name)"
   ]
  },
  {
   "cell_type": "code",
   "execution_count": 3,
   "metadata": {},
   "outputs": [
    {
     "data": {
      "text/html": [
       "<div>\n",
       "<style scoped>\n",
       "    .dataframe tbody tr th:only-of-type {\n",
       "        vertical-align: middle;\n",
       "    }\n",
       "\n",
       "    .dataframe tbody tr th {\n",
       "        vertical-align: top;\n",
       "    }\n",
       "\n",
       "    .dataframe thead th {\n",
       "        text-align: right;\n",
       "    }\n",
       "</style>\n",
       "<table border=\"1\" class=\"dataframe\">\n",
       "  <thead>\n",
       "    <tr style=\"text-align: right;\">\n",
       "      <th></th>\n",
       "      <th>0</th>\n",
       "      <th>1</th>\n",
       "      <th>2</th>\n",
       "      <th>3</th>\n",
       "      <th>4</th>\n",
       "      <th>5</th>\n",
       "      <th>6</th>\n",
       "      <th>7</th>\n",
       "      <th>8</th>\n",
       "      <th>9</th>\n",
       "      <th>...</th>\n",
       "      <th>119</th>\n",
       "      <th>120</th>\n",
       "      <th>121</th>\n",
       "      <th>122</th>\n",
       "      <th>123</th>\n",
       "      <th>124</th>\n",
       "      <th>125</th>\n",
       "      <th>126</th>\n",
       "      <th>127</th>\n",
       "      <th>128</th>\n",
       "    </tr>\n",
       "  </thead>\n",
       "  <tbody>\n",
       "    <tr>\n",
       "      <th>0</th>\n",
       "      <td>0.0</td>\n",
       "      <td>15.728111</td>\n",
       "      <td>9.099586</td>\n",
       "      <td>0.259395</td>\n",
       "      <td>5.156905</td>\n",
       "      <td>0.000000</td>\n",
       "      <td>0.0</td>\n",
       "      <td>0.000000</td>\n",
       "      <td>7.731676</td>\n",
       "      <td>0.000000</td>\n",
       "      <td>...</td>\n",
       "      <td>11.612481</td>\n",
       "      <td>0.000000</td>\n",
       "      <td>3.256385</td>\n",
       "      <td>0.0</td>\n",
       "      <td>0.000000</td>\n",
       "      <td>7.129995</td>\n",
       "      <td>0.000000</td>\n",
       "      <td>3.373063</td>\n",
       "      <td>0.0</td>\n",
       "      <td>9</td>\n",
       "    </tr>\n",
       "    <tr>\n",
       "      <th>1</th>\n",
       "      <td>0.0</td>\n",
       "      <td>0.000000</td>\n",
       "      <td>0.000000</td>\n",
       "      <td>0.000000</td>\n",
       "      <td>0.000000</td>\n",
       "      <td>14.229717</td>\n",
       "      <td>0.0</td>\n",
       "      <td>0.000000</td>\n",
       "      <td>0.000000</td>\n",
       "      <td>0.000000</td>\n",
       "      <td>...</td>\n",
       "      <td>0.000000</td>\n",
       "      <td>2.213775</td>\n",
       "      <td>0.000000</td>\n",
       "      <td>0.0</td>\n",
       "      <td>0.000000</td>\n",
       "      <td>0.000000</td>\n",
       "      <td>2.523506</td>\n",
       "      <td>2.307943</td>\n",
       "      <td>0.0</td>\n",
       "      <td>4</td>\n",
       "    </tr>\n",
       "    <tr>\n",
       "      <th>2</th>\n",
       "      <td>0.0</td>\n",
       "      <td>0.000000</td>\n",
       "      <td>0.000000</td>\n",
       "      <td>72.029411</td>\n",
       "      <td>0.000000</td>\n",
       "      <td>0.000000</td>\n",
       "      <td>0.0</td>\n",
       "      <td>0.000000</td>\n",
       "      <td>0.000000</td>\n",
       "      <td>56.773968</td>\n",
       "      <td>...</td>\n",
       "      <td>0.000000</td>\n",
       "      <td>0.000000</td>\n",
       "      <td>0.000000</td>\n",
       "      <td>0.0</td>\n",
       "      <td>0.000000</td>\n",
       "      <td>136.649582</td>\n",
       "      <td>0.000000</td>\n",
       "      <td>0.000000</td>\n",
       "      <td>0.0</td>\n",
       "      <td>11</td>\n",
       "    </tr>\n",
       "    <tr>\n",
       "      <th>3</th>\n",
       "      <td>0.0</td>\n",
       "      <td>0.000000</td>\n",
       "      <td>0.000000</td>\n",
       "      <td>0.000000</td>\n",
       "      <td>0.000000</td>\n",
       "      <td>14.833830</td>\n",
       "      <td>0.0</td>\n",
       "      <td>0.000000</td>\n",
       "      <td>0.000000</td>\n",
       "      <td>0.000000</td>\n",
       "      <td>...</td>\n",
       "      <td>0.000000</td>\n",
       "      <td>0.000000</td>\n",
       "      <td>0.000000</td>\n",
       "      <td>0.0</td>\n",
       "      <td>0.000000</td>\n",
       "      <td>0.000000</td>\n",
       "      <td>1.940317</td>\n",
       "      <td>0.000000</td>\n",
       "      <td>0.0</td>\n",
       "      <td>4</td>\n",
       "    </tr>\n",
       "    <tr>\n",
       "      <th>4</th>\n",
       "      <td>0.0</td>\n",
       "      <td>0.000000</td>\n",
       "      <td>0.000000</td>\n",
       "      <td>0.000000</td>\n",
       "      <td>4.875045</td>\n",
       "      <td>0.000000</td>\n",
       "      <td>0.0</td>\n",
       "      <td>0.000000</td>\n",
       "      <td>0.000000</td>\n",
       "      <td>0.000000</td>\n",
       "      <td>...</td>\n",
       "      <td>0.000000</td>\n",
       "      <td>0.000000</td>\n",
       "      <td>0.000000</td>\n",
       "      <td>0.0</td>\n",
       "      <td>6.780793</td>\n",
       "      <td>0.000000</td>\n",
       "      <td>0.000000</td>\n",
       "      <td>0.000000</td>\n",
       "      <td>0.0</td>\n",
       "      <td>0</td>\n",
       "    </tr>\n",
       "    <tr>\n",
       "      <th>...</th>\n",
       "      <td>...</td>\n",
       "      <td>...</td>\n",
       "      <td>...</td>\n",
       "      <td>...</td>\n",
       "      <td>...</td>\n",
       "      <td>...</td>\n",
       "      <td>...</td>\n",
       "      <td>...</td>\n",
       "      <td>...</td>\n",
       "      <td>...</td>\n",
       "      <td>...</td>\n",
       "      <td>...</td>\n",
       "      <td>...</td>\n",
       "      <td>...</td>\n",
       "      <td>...</td>\n",
       "      <td>...</td>\n",
       "      <td>...</td>\n",
       "      <td>...</td>\n",
       "      <td>...</td>\n",
       "      <td>...</td>\n",
       "      <td>...</td>\n",
       "    </tr>\n",
       "    <tr>\n",
       "      <th>18841</th>\n",
       "      <td>0.0</td>\n",
       "      <td>0.000000</td>\n",
       "      <td>0.248722</td>\n",
       "      <td>0.000000</td>\n",
       "      <td>0.000000</td>\n",
       "      <td>3.898138</td>\n",
       "      <td>0.0</td>\n",
       "      <td>2.554687</td>\n",
       "      <td>0.000000</td>\n",
       "      <td>4.410306</td>\n",
       "      <td>...</td>\n",
       "      <td>0.000000</td>\n",
       "      <td>0.000000</td>\n",
       "      <td>0.000000</td>\n",
       "      <td>0.0</td>\n",
       "      <td>0.000000</td>\n",
       "      <td>0.785907</td>\n",
       "      <td>0.000000</td>\n",
       "      <td>0.000000</td>\n",
       "      <td>0.0</td>\n",
       "      <td>12</td>\n",
       "    </tr>\n",
       "    <tr>\n",
       "      <th>18842</th>\n",
       "      <td>0.0</td>\n",
       "      <td>0.000000</td>\n",
       "      <td>0.000000</td>\n",
       "      <td>0.000000</td>\n",
       "      <td>0.320675</td>\n",
       "      <td>0.000000</td>\n",
       "      <td>0.0</td>\n",
       "      <td>3.230011</td>\n",
       "      <td>0.000000</td>\n",
       "      <td>0.000000</td>\n",
       "      <td>...</td>\n",
       "      <td>0.000000</td>\n",
       "      <td>1.078652</td>\n",
       "      <td>0.000000</td>\n",
       "      <td>0.0</td>\n",
       "      <td>2.671853</td>\n",
       "      <td>0.000000</td>\n",
       "      <td>0.113560</td>\n",
       "      <td>0.000000</td>\n",
       "      <td>0.0</td>\n",
       "      <td>8</td>\n",
       "    </tr>\n",
       "    <tr>\n",
       "      <th>18843</th>\n",
       "      <td>0.0</td>\n",
       "      <td>0.000000</td>\n",
       "      <td>0.000000</td>\n",
       "      <td>0.000000</td>\n",
       "      <td>0.000000</td>\n",
       "      <td>0.860070</td>\n",
       "      <td>0.0</td>\n",
       "      <td>1.224586</td>\n",
       "      <td>0.000000</td>\n",
       "      <td>0.457255</td>\n",
       "      <td>...</td>\n",
       "      <td>0.000000</td>\n",
       "      <td>0.000000</td>\n",
       "      <td>0.000000</td>\n",
       "      <td>0.0</td>\n",
       "      <td>0.303810</td>\n",
       "      <td>0.000000</td>\n",
       "      <td>0.000000</td>\n",
       "      <td>0.000000</td>\n",
       "      <td>0.0</td>\n",
       "      <td>4</td>\n",
       "    </tr>\n",
       "    <tr>\n",
       "      <th>18844</th>\n",
       "      <td>0.0</td>\n",
       "      <td>0.000000</td>\n",
       "      <td>0.000000</td>\n",
       "      <td>0.000000</td>\n",
       "      <td>0.000000</td>\n",
       "      <td>0.000000</td>\n",
       "      <td>0.0</td>\n",
       "      <td>0.000000</td>\n",
       "      <td>0.000000</td>\n",
       "      <td>0.000000</td>\n",
       "      <td>...</td>\n",
       "      <td>0.000000</td>\n",
       "      <td>8.226898</td>\n",
       "      <td>0.000000</td>\n",
       "      <td>0.0</td>\n",
       "      <td>5.754258</td>\n",
       "      <td>0.000000</td>\n",
       "      <td>0.000000</td>\n",
       "      <td>0.000000</td>\n",
       "      <td>0.0</td>\n",
       "      <td>6</td>\n",
       "    </tr>\n",
       "    <tr>\n",
       "      <th>18845</th>\n",
       "      <td>0.0</td>\n",
       "      <td>0.000000</td>\n",
       "      <td>9.186374</td>\n",
       "      <td>0.000000</td>\n",
       "      <td>5.258586</td>\n",
       "      <td>0.000000</td>\n",
       "      <td>0.0</td>\n",
       "      <td>0.000000</td>\n",
       "      <td>0.000000</td>\n",
       "      <td>2.860838</td>\n",
       "      <td>...</td>\n",
       "      <td>0.000000</td>\n",
       "      <td>0.000000</td>\n",
       "      <td>0.000000</td>\n",
       "      <td>0.0</td>\n",
       "      <td>0.000000</td>\n",
       "      <td>0.000000</td>\n",
       "      <td>0.000000</td>\n",
       "      <td>0.000000</td>\n",
       "      <td>0.0</td>\n",
       "      <td>7</td>\n",
       "    </tr>\n",
       "  </tbody>\n",
       "</table>\n",
       "<p>18846 rows × 129 columns</p>\n",
       "</div>"
      ],
      "text/plain": [
       "       0          1         2          3         4          5    6    \\\n",
       "0      0.0  15.728111  9.099586   0.259395  5.156905   0.000000  0.0   \n",
       "1      0.0   0.000000  0.000000   0.000000  0.000000  14.229717  0.0   \n",
       "2      0.0   0.000000  0.000000  72.029411  0.000000   0.000000  0.0   \n",
       "3      0.0   0.000000  0.000000   0.000000  0.000000  14.833830  0.0   \n",
       "4      0.0   0.000000  0.000000   0.000000  4.875045   0.000000  0.0   \n",
       "...    ...        ...       ...        ...       ...        ...  ...   \n",
       "18841  0.0   0.000000  0.248722   0.000000  0.000000   3.898138  0.0   \n",
       "18842  0.0   0.000000  0.000000   0.000000  0.320675   0.000000  0.0   \n",
       "18843  0.0   0.000000  0.000000   0.000000  0.000000   0.860070  0.0   \n",
       "18844  0.0   0.000000  0.000000   0.000000  0.000000   0.000000  0.0   \n",
       "18845  0.0   0.000000  9.186374   0.000000  5.258586   0.000000  0.0   \n",
       "\n",
       "            7         8          9    ...        119       120       121  122  \\\n",
       "0      0.000000  7.731676   0.000000  ...  11.612481  0.000000  3.256385  0.0   \n",
       "1      0.000000  0.000000   0.000000  ...   0.000000  2.213775  0.000000  0.0   \n",
       "2      0.000000  0.000000  56.773968  ...   0.000000  0.000000  0.000000  0.0   \n",
       "3      0.000000  0.000000   0.000000  ...   0.000000  0.000000  0.000000  0.0   \n",
       "4      0.000000  0.000000   0.000000  ...   0.000000  0.000000  0.000000  0.0   \n",
       "...         ...       ...        ...  ...        ...       ...       ...  ...   \n",
       "18841  2.554687  0.000000   4.410306  ...   0.000000  0.000000  0.000000  0.0   \n",
       "18842  3.230011  0.000000   0.000000  ...   0.000000  1.078652  0.000000  0.0   \n",
       "18843  1.224586  0.000000   0.457255  ...   0.000000  0.000000  0.000000  0.0   \n",
       "18844  0.000000  0.000000   0.000000  ...   0.000000  8.226898  0.000000  0.0   \n",
       "18845  0.000000  0.000000   2.860838  ...   0.000000  0.000000  0.000000  0.0   \n",
       "\n",
       "            123         124       125       126  127  128  \n",
       "0      0.000000    7.129995  0.000000  3.373063  0.0    9  \n",
       "1      0.000000    0.000000  2.523506  2.307943  0.0    4  \n",
       "2      0.000000  136.649582  0.000000  0.000000  0.0   11  \n",
       "3      0.000000    0.000000  1.940317  0.000000  0.0    4  \n",
       "4      6.780793    0.000000  0.000000  0.000000  0.0    0  \n",
       "...         ...         ...       ...       ...  ...  ...  \n",
       "18841  0.000000    0.785907  0.000000  0.000000  0.0   12  \n",
       "18842  2.671853    0.000000  0.113560  0.000000  0.0    8  \n",
       "18843  0.303810    0.000000  0.000000  0.000000  0.0    4  \n",
       "18844  5.754258    0.000000  0.000000  0.000000  0.0    6  \n",
       "18845  0.000000    0.000000  0.000000  0.000000  0.0    7  \n",
       "\n",
       "[18846 rows x 129 columns]"
      ]
     },
     "execution_count": 3,
     "metadata": {},
     "output_type": "execute_result"
    }
   ],
   "source": [
    "TNG = pd.read_csv(TNG_path, header=None)\n",
    "TNG"
   ]
  },
  {
   "cell_type": "code",
   "execution_count": 4,
   "metadata": {},
   "outputs": [],
   "source": [
    "y = np.array(TNG[128])\n",
    "X = np.array(TNG[range(0,128)])"
   ]
  },
  {
   "cell_type": "code",
   "execution_count": 5,
   "metadata": {},
   "outputs": [],
   "source": [
    "from sklearn.model_selection import train_test_split"
   ]
  },
  {
   "cell_type": "code",
   "execution_count": 6,
   "metadata": {},
   "outputs": [],
   "source": [
    "X_train, X_test, y_train, y_test = train_test_split(X, y, test_size=0.2, random_state=42)"
   ]
  },
  {
   "cell_type": "markdown",
   "metadata": {},
   "source": [
    "### 2. Celem projektu jest porównanie dwóch klasyfikatorów: klasyfikatora AdaBoost użytego dla pełnych danych oraz sieci neuronowej MLP.  \n",
    "\n",
    "(mamy użyć \"kilku\" warstw MLP, np. 5)"
   ]
  },
  {
   "cell_type": "markdown",
   "metadata": {},
   "source": [
    "# MLP"
   ]
  },
  {
   "cell_type": "code",
   "execution_count": 7,
   "metadata": {},
   "outputs": [],
   "source": [
    "from sklearn.neural_network import MLPClassifier\n",
    "from sklearn.metrics import accuracy_score\n",
    "from sklearn.model_selection import GridSearchCV"
   ]
  },
  {
   "cell_type": "code",
   "execution_count": 23,
   "metadata": {},
   "outputs": [],
   "source": [
    "#mlp = MLPClassifier(hidden_layer_sizes=(128,128,128,128,128,)) # 92. \n",
    "#mlp = MLPClassifier(hidden_layer_sizes=(128,128,128,128,128,128,128,128,128,128,)) #93.33 \n",
    "#mlp = MLPClassifier(hidden_layer_sizes=(128,128,128,)) # 93.42\n",
    "#mlp = MLPClassifier(hidden_layer_sizes=(128,)) # 93.92\n",
    "#mlp = MLPClassifier(hidden_layer_sizes=(1000,)) # 93.58\n",
    "#mlp = MLPClassifier(hidden_layer_sizes=(300,300,300,300,300,)) #92.51\n",
    "mlp = MLPClassifier(hidden_layer_sizes=(100,200,300,100,200,300,))"
   ]
  },
  {
   "cell_type": "code",
   "execution_count": 101,
   "metadata": {},
   "outputs": [],
   "source": [
    "parameters = {'hidden_layer_sizes':[\n",
    "    (128,),\n",
    "    (128,128,),\n",
    "    (128,128,128,), \n",
    "    (128,128,128,128,),\n",
    "    (128,128,128,128,128,),\n",
    "    (128,128,128,128,128,128,),\n",
    "    (128,128,128,128,128,128,128,),\n",
    "    (128,128,128,128,128,128,128,128,),\n",
    "    (128,128,128,128,128,128,128,128,128,),\n",
    "    (128,128,128,128,128,128,128,128,128,128,),\n",
    "],\n",
    "       'activation':['identity', 'logistic', 'tanh', 'relu']}"
   ]
  },
  {
   "cell_type": "code",
   "execution_count": 102,
   "metadata": {},
   "outputs": [],
   "source": [
    "clf = GridSearchCV(MLPClassifier(), parameters)"
   ]
  },
  {
   "cell_type": "code",
   "execution_count": null,
   "metadata": {},
   "outputs": [],
   "source": [
    "clf.fit(X_train, y_train)"
   ]
  },
  {
   "cell_type": "code",
   "execution_count": null,
   "metadata": {},
   "outputs": [],
   "source": []
  },
  {
   "cell_type": "code",
   "execution_count": 24,
   "metadata": {},
   "outputs": [
    {
     "name": "stderr",
     "output_type": "stream",
     "text": [
      "/home/arkadius/studies/MROiPUM/ml_tutorial_5/venv/lib64/python3.6/site-packages/sklearn/neural_network/_multilayer_perceptron.py:573: UserWarning: Training interrupted by user.\n",
      "  warnings.warn(\"Training interrupted by user.\")\n"
     ]
    },
    {
     "data": {
      "text/plain": [
       "MLPClassifier(activation='relu', alpha=0.0001, batch_size='auto', beta_1=0.9,\n",
       "              beta_2=0.999, early_stopping=False, epsilon=1e-08,\n",
       "              hidden_layer_sizes=(100, 200, 300, 100, 200, 300),\n",
       "              learning_rate='constant', learning_rate_init=0.001, max_fun=15000,\n",
       "              max_iter=200, momentum=0.9, n_iter_no_change=10,\n",
       "              nesterovs_momentum=True, power_t=0.5, random_state=None,\n",
       "              shuffle=True, solver='adam', tol=0.0001, validation_fraction=0.1,\n",
       "              verbose=False, warm_start=False)"
      ]
     },
     "execution_count": 24,
     "metadata": {},
     "output_type": "execute_result"
    }
   ],
   "source": [
    "mlp.fit(X_train,y_train)"
   ]
  },
  {
   "cell_type": "code",
   "execution_count": 25,
   "metadata": {},
   "outputs": [
    {
     "data": {
      "text/plain": [
       "array([10,  3, 17, ..., 14, 12,  7])"
      ]
     },
     "execution_count": 25,
     "metadata": {},
     "output_type": "execute_result"
    }
   ],
   "source": [
    "y_predicted = mlp.predict(X_test)"
   ]
  },
  {
   "cell_type": "code",
   "execution_count": 91,
   "metadata": {},
   "outputs": [
    {
     "data": {
      "text/plain": [
       "0.8912466843501327"
      ]
     },
     "execution_count": 91,
     "metadata": {},
     "output_type": "execute_result"
    }
   ],
   "source": [
    "accuracy_score(y_test, y_predicted)"
   ]
  },
  {
   "cell_type": "markdown",
   "metadata": {},
   "source": [
    "# AdaBoost"
   ]
  },
  {
   "cell_type": "code",
   "execution_count": 9,
   "metadata": {},
   "outputs": [],
   "source": [
    "from sklearn.ensemble import AdaBoostClassifier\n",
    "from sklearn.svm import SVC\n",
    "from sklearn.ensemble import RandomForestClassifier\n",
    "from sklearn.neighbors import KNeighborsClassifier\n",
    "from sklearn.metrics import accuracy_score"
   ]
  },
  {
   "cell_type": "code",
   "execution_count": 10,
   "metadata": {},
   "outputs": [],
   "source": [
    "estimators = [None, # None in adaboost uses DecisionTreeClassifier(max_depth=1)\n",
    "              SVC(probability=True), # Do you have so much time?\n",
    "              RandomForestClassifier(n_estimators=20, n_jobs=4) # Best one\n",
    "             ] \n",
    "ada = AdaBoostClassifier(n_estimators=20, base_estimator=estimators[2])"
   ]
  },
  {
   "cell_type": "code",
   "execution_count": 95,
   "metadata": {},
   "outputs": [
    {
     "data": {
      "text/plain": [
       "AdaBoostClassifier(algorithm='SAMME.R',\n",
       "                   base_estimator=RandomForestClassifier(bootstrap=True,\n",
       "                                                         ccp_alpha=0.0,\n",
       "                                                         class_weight=None,\n",
       "                                                         criterion='gini',\n",
       "                                                         max_depth=None,\n",
       "                                                         max_features='auto',\n",
       "                                                         max_leaf_nodes=None,\n",
       "                                                         max_samples=None,\n",
       "                                                         min_impurity_decrease=0.0,\n",
       "                                                         min_impurity_split=None,\n",
       "                                                         min_samples_leaf=1,\n",
       "                                                         min_samples_split=2,\n",
       "                                                         min_weight_fraction_leaf=0.0,\n",
       "                                                         n_estimators=20,\n",
       "                                                         n_jobs=4,\n",
       "                                                         oob_score=False,\n",
       "                                                         random_state=None,\n",
       "                                                         verbose=0,\n",
       "                                                         warm_start=False),\n",
       "                   learning_rate=1.0, n_estimators=20, random_state=None)"
      ]
     },
     "execution_count": 95,
     "metadata": {},
     "output_type": "execute_result"
    }
   ],
   "source": [
    "ada.fit(X_train,y_train)"
   ]
  },
  {
   "cell_type": "code",
   "execution_count": 97,
   "metadata": {},
   "outputs": [],
   "source": [
    "y_predicted = ada.predict(X_test)"
   ]
  },
  {
   "cell_type": "code",
   "execution_count": 98,
   "metadata": {},
   "outputs": [
    {
     "data": {
      "text/plain": [
       "0.936604774535809"
      ]
     },
     "execution_count": 98,
     "metadata": {},
     "output_type": "execute_result"
    }
   ],
   "source": [
    "accuracy_score(y_test, y_predicted)"
   ]
  },
  {
   "cell_type": "code",
   "execution_count": null,
   "metadata": {},
   "outputs": [],
   "source": []
  },
  {
   "cell_type": "markdown",
   "metadata": {},
   "source": [
    "### 3. Ocenić moc obu (robustness) klasyfikatorów na ich jakość w zależności od stopnia zaszumienia wejściowych danych.\n",
    "\n",
    "\n",
    "“moc na ich jakość” - jak należy to rozumieć? Jak mamy “zaszumić” dane (jakiej miary użyć)?\n",
    "mamy pozamieniać 10, 20 , 30% etykiet\n",
    "robustness to własnie odporność na te zmiany, accuracy jako miara ma byc\n"
   ]
  },
  {
   "cell_type": "code",
   "execution_count": 26,
   "metadata": {},
   "outputs": [],
   "source": [
    "import random"
   ]
  },
  {
   "cell_type": "code",
   "execution_count": 27,
   "metadata": {},
   "outputs": [],
   "source": [
    "def noised_label(l, rng_min=0, rng_max=19):\n",
    "    nl = random.randint(rng_min, rng_max)\n",
    "    while nl == l:\n",
    "        nl = random.randint(rng_min, rng_max)\n",
    "    return nl\n",
    "    \n",
    "def noise(X, y, noise_size):\n",
    "    if noise_size == 0:\n",
    "        return X, y\n",
    "    X_pure, X_to_noise, y_pure, y_to_noise = train_test_split(X, y, \n",
    "                                                              test_size=noise_size, random_state=42)\n",
    "    noised = [ noised_label(y) for y in y_to_noise ] \n",
    "    X_noised = np.concatenate((X_pure, X_to_noise), axis=0)\n",
    "    y_noised = np.concatenate((y_pure, noised), axis=0)\n",
    "    y_shuffled = np.concatenate((y_pure, y_to_noise), axis=0)\n",
    "    print(\"Simple check for noise_size {}: {}\".format(noise_size, accuracy_score(y_shuffled, y_noised)))\n",
    "    return X_noised, y_noised"
   ]
  },
  {
   "cell_type": "code",
   "execution_count": 28,
   "metadata": {},
   "outputs": [],
   "source": [
    "def get_accuracy(clf, X_train, X_test, y_train, y_test):\n",
    "    clf.fit(X_train, y_train)\n",
    "    y_predicted = clf.predict(X_test)\n",
    "    return accuracy_score(y_predicted, y_test)\n",
    "    \n",
    "def compare(clf1, clf2, X_train, X_test, y_train, y_test):\n",
    "    acc1 = get_accuracy(clf1, X_train, X_test, y_train, y_test)\n",
    "    acc2 = get_accuracy(clf2, X_train, X_test, y_train, y_test)\n",
    "    return acc1, acc2"
   ]
  },
  {
   "cell_type": "code",
   "execution_count": 32,
   "metadata": {},
   "outputs": [
    {
     "name": "stdout",
     "output_type": "stream",
     "text": [
      "Simple check for noise_size 0.1: 0.9\n",
      "Simple check for noise_size 0.2: 0.8\n",
      "Simple check for noise_size 0.3: 0.7\n"
     ]
    }
   ],
   "source": [
    "noise_sizes = [0, 0.1, 0.2, 0.3]\n",
    "ada_scores = []\n",
    "mlp_scores = []\n",
    "for noise_size in noise_sizes:\n",
    "    X_train_noised, y_train_noised = noise(X_train[:1000], y_train[:1000], noise_size)\n",
    "    ada_acc, mlp_acc = compare(ada, mlp, X_train_noised, X_test, y_train_noised, y_test)\n",
    "    ada_scores.append(ada_acc)\n",
    "    mlp_scores.append(mlp_acc)"
   ]
  },
  {
   "cell_type": "code",
   "execution_count": 33,
   "metadata": {},
   "outputs": [
    {
     "data": {
      "text/html": [
       "<div>\n",
       "<style scoped>\n",
       "    .dataframe tbody tr th:only-of-type {\n",
       "        vertical-align: middle;\n",
       "    }\n",
       "\n",
       "    .dataframe tbody tr th {\n",
       "        vertical-align: top;\n",
       "    }\n",
       "\n",
       "    .dataframe thead th {\n",
       "        text-align: right;\n",
       "    }\n",
       "</style>\n",
       "<table border=\"1\" class=\"dataframe\">\n",
       "  <thead>\n",
       "    <tr style=\"text-align: right;\">\n",
       "      <th></th>\n",
       "      <th>noise size</th>\n",
       "      <th>ada boost accuracy</th>\n",
       "      <th>mlp accuracy</th>\n",
       "    </tr>\n",
       "  </thead>\n",
       "  <tbody>\n",
       "    <tr>\n",
       "      <th>0</th>\n",
       "      <td>0.0</td>\n",
       "      <td>0.932361</td>\n",
       "      <td>0.920955</td>\n",
       "    </tr>\n",
       "    <tr>\n",
       "      <th>1</th>\n",
       "      <td>0.1</td>\n",
       "      <td>0.915915</td>\n",
       "      <td>0.869231</td>\n",
       "    </tr>\n",
       "    <tr>\n",
       "      <th>2</th>\n",
       "      <td>0.2</td>\n",
       "      <td>0.917241</td>\n",
       "      <td>0.890451</td>\n",
       "    </tr>\n",
       "    <tr>\n",
       "      <th>3</th>\n",
       "      <td>0.3</td>\n",
       "      <td>0.905305</td>\n",
       "      <td>0.784615</td>\n",
       "    </tr>\n",
       "  </tbody>\n",
       "</table>\n",
       "</div>"
      ],
      "text/plain": [
       "   noise size  ada boost accuracy  mlp accuracy\n",
       "0         0.0            0.932361      0.920955\n",
       "1         0.1            0.915915      0.869231\n",
       "2         0.2            0.917241      0.890451\n",
       "3         0.3            0.905305      0.784615"
      ]
     },
     "execution_count": 33,
     "metadata": {},
     "output_type": "execute_result"
    }
   ],
   "source": [
    "df = pd.DataFrame()\n",
    "df[\"noise size\"] = noise_sizes\n",
    "df[\"ada boost accuracy\"] = ada_scores\n",
    "df[\"mlp accuracy\"] = mlp_scores\n",
    "df"
   ]
  },
  {
   "cell_type": "markdown",
   "metadata": {},
   "source": [
    "### 4. Jak zmieni się jakość klasyfikatorów po użyciu transformacji PCA.\n",
    "\n",
    "Czy PCA ma być ND->ND czy ND -> N’D (N’<<N)?\n",
    "zrobić n-n, a potem n na mniej nie może być zbyt mała 30 okej\n"
   ]
  },
  {
   "cell_type": "code",
   "execution_count": 35,
   "metadata": {},
   "outputs": [],
   "source": [
    "from sklearn.decomposition import PCA"
   ]
  },
  {
   "cell_type": "code",
   "execution_count": 36,
   "metadata": {},
   "outputs": [],
   "source": [
    "def compare_pca(clf1, clf2, X_train, X_test, y_train, y_test, n_components):\n",
    "    pca = PCA(n_components=n_components)\n",
    "    pca.fit(X_train)\n",
    "    X_train_pcaed = pca.transform(X_train)\n",
    "    X_test_pcaed = pca.transform(X_test)\n",
    "    return compare(clf1, clf2, X_train_pcaed, X_test_pcaed, y_train, y_test)"
   ]
  },
  {
   "cell_type": "code",
   "execution_count": null,
   "metadata": {},
   "outputs": [],
   "source": [
    "ns = [X_train.shape[1], 30]\n",
    "ada_scores = []\n",
    "mlp_scores = []\n",
    "for n in ns:\n",
    "    ada_acc, mlp_acc = compare_pca(ada, mlp, X_train, X_test, y_train, y_test, n)\n",
    "    ada_scores.append(ada_acc)\n",
    "    mlp_scores.append(mlp_acc)"
   ]
  },
  {
   "cell_type": "code",
   "execution_count": null,
   "metadata": {},
   "outputs": [],
   "source": [
    "df = pd.DataFrame()\n",
    "df[\"n_components\"] = ns\n",
    "df[\"ada boost accuracy\"] = ada_scores\n",
    "df[\"mlp accuracy\"] = mlp_scores\n",
    "df"
   ]
  },
  {
   "cell_type": "markdown",
   "metadata": {},
   "source": [
    "### 5. Wyniki jakości klasyfikatorów oceniać na bazie krzyżowej-walidacji, (accuracy - Loss- błąd, Krzywa ROC, Precision-Recall, (pola pod krzywymi) F1).\n",
    "\n",
    "Loss tylko w odniesieniu do MLP, a error do AdaBoost? Log Loss?\n",
    "Jak zrobić ROC  (weighted?), Precision-Recall dla wielu klas? micro-averaged?\n",
    "Upewnić się - F1 jako score, a nie krzywa?\n",
    "\n",
    "Dla wielu klas możemy też narysować, on chce “uzupełnić lukę w wiedzy” czy jakoś tak\n"
   ]
  },
  {
   "cell_type": "code",
   "execution_count": null,
   "metadata": {},
   "outputs": [],
   "source": []
  },
  {
   "cell_type": "markdown",
   "metadata": {},
   "source": [
    "### 6. Dokonać porównania wyników tzn: accuracy i loss. Jakość klasyfikatorów porównywać dla 3 budżetów czasowych T1, T2, T3 (krótki, średni i długi).\n"
   ]
  },
  {
   "cell_type": "code",
   "execution_count": null,
   "metadata": {},
   "outputs": [],
   "source": []
  },
  {
   "cell_type": "markdown",
   "metadata": {},
   "source": [
    "### 7. Należy dokonać badań:\n",
    "### a. 5,6. (3.5)\n",
    "### b. 3,4 (4.0)\n",
    "### c. Znaleźć zestaw cech, który jest głównie odpowiedzialny za przynależność do odpowiednich klas. (5.0)\n",
    "\n",
    "Użyć RFE? Albo RandomForest do określenia ranków cech?  Tak, możemy RandomForest\n"
   ]
  },
  {
   "cell_type": "code",
   "execution_count": null,
   "metadata": {},
   "outputs": [],
   "source": []
  },
  {
   "cell_type": "markdown",
   "metadata": {},
   "source": [
    "### 8. Należy sporządzić raport z projektu.\n",
    "\n",
    "Raport może mieć więcej niż 2 strony.\n",
    "Zalecenia do oceny jakości klasyfikacji: najpierw dobrze wykonać walidację krzyżową ma zbiorze treningowym, a dopiero potem holdout.\n",
    "\n",
    "\n"
   ]
  },
  {
   "cell_type": "code",
   "execution_count": null,
   "metadata": {},
   "outputs": [],
   "source": []
  }
 ],
 "metadata": {
  "kernelspec": {
   "display_name": "venv",
   "language": "python",
   "name": "venv"
  },
  "language_info": {
   "codemirror_mode": {
    "name": "ipython",
    "version": 3
   },
   "file_extension": ".py",
   "mimetype": "text/x-python",
   "name": "python",
   "nbconvert_exporter": "python",
   "pygments_lexer": "ipython3",
   "version": "3.6.8"
  }
 },
 "nbformat": 4,
 "nbformat_minor": 2
}
